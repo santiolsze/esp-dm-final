{
 "cells": [
  {
   "cell_type": "code",
   "execution_count": 1,
   "id": "ac6c75a4",
   "metadata": {},
   "outputs": [],
   "source": [
    "import pandas as pd\n",
    "import hashlib\n",
    "from unidecode import unidecode\n",
    "import os"
   ]
  },
  {
   "cell_type": "code",
   "execution_count": 2,
   "id": "9955147e",
   "metadata": {},
   "outputs": [],
   "source": [
    "file = \"data/Dengue 03-2024.xls\"\n",
    "\n",
    "config = dict(\n",
    "hashing_cols = [\"tipo_documento\", \"nro_documento\"],\n",
    "additional_cols_to_drop = [\"paciente\"],\n",
    "drop_id = True)"
   ]
  },
  {
   "cell_type": "code",
   "execution_count": 3,
   "id": "1e1871a2",
   "metadata": {},
   "outputs": [],
   "source": [
    "def read_excel(file):\n",
    "    df = pd.read_excel(file, nrows=50)\n",
    "    mask = df == \"Paciente\"\n",
    "    idx = mask.stack().idxmax()[0]\n",
    "    return pd.read_excel(file, skiprows=idx+1)\n",
    "\n",
    "def colnames_norm(df):\n",
    "    df.columns = df.columns.str.lower().str.strip().str.replace('.', '', regex = False).str.replace(' ', '_', regex = False).map(lambda x: unidecode(x).replace(' ', '_'))\n",
    "\n",
    "# Function to compute a consistent hash\n",
    "def compute_hash(row, cols):\n",
    "    combined_string = ''.join([str(row[col]) for col in cols])\n",
    "    return hashlib.md5(combined_string.encode()).hexdigest()\n",
    "\n",
    "def hash_id(df, hashing_cols = config[\"hashing_cols\"], new_id_name = \"id_subject\", drop_id = True):\n",
    "    df['id_subject'] = df.apply(compute_hash, cols = hashing_cols, axis=1)\n",
    "    if drop_id:\n",
    "        df.drop(columns = hashing_cols, inplace= True)\n",
    "        \n",
    "def anonymize(file):\n",
    "    df = read_excel(file)\n",
    "    colnames_norm(df)\n",
    "    hash_id(df)\n",
    "    return df.drop(columns = config[\"additional_cols_to_drop\"])"
   ]
  },
  {
   "cell_type": "code",
   "execution_count": 5,
   "id": "b52e3249",
   "metadata": {},
   "outputs": [],
   "source": [
    "root = \"raw_data/\"\n",
    "dest = \"anonym_data/\"\n",
    "files = [f for f in os.listdir(root)]"
   ]
  },
  {
   "cell_type": "markdown",
   "id": "06c52665",
   "metadata": {},
   "source": [
    "for file in  files:\n",
    "    try:\n",
    "        df = anonymize(root + file)\n",
    "        df.to_csv(f\"{dest}/{file.split('.')[0]}.csv\", index = None)\n",
    "        print(f\"{file} with shape {df.shape} done\")\n",
    "    except Exception as e:\n",
    "        print(f\"Failed! ({file} with shape {df.shape}). {str(e)[:100]}\")"
   ]
  },
  {
   "cell_type": "code",
   "execution_count": null,
   "id": "33c5e04d",
   "metadata": {},
   "outputs": [],
   "source": []
  }
 ],
 "metadata": {
  "kernelspec": {
   "display_name": "Python 3 (ipykernel)",
   "language": "python",
   "name": "python3"
  },
  "language_info": {
   "codemirror_mode": {
    "name": "ipython",
    "version": 3
   },
   "file_extension": ".py",
   "mimetype": "text/x-python",
   "name": "python",
   "nbconvert_exporter": "python",
   "pygments_lexer": "ipython3",
   "version": "3.8.10"
  }
 },
 "nbformat": 4,
 "nbformat_minor": 5
}
