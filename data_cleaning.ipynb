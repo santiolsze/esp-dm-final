{
 "cells": [
  {
   "cell_type": "code",
   "execution_count": 1,
   "id": "2ae5eb22",
   "metadata": {},
   "outputs": [],
   "source": [
    "import pandas as pd\n",
    "import os\n",
    "import numpy as np"
   ]
  },
  {
   "cell_type": "code",
   "execution_count": 2,
   "id": "55b83905",
   "metadata": {},
   "outputs": [
    {
     "data": {
      "text/plain": [
       "['Plaquetas 03-2024.csv',\n",
       " 'Hepatograma 03-2024.csv',\n",
       " 'Glucosa 03-2024.csv',\n",
       " 'Dengue IgM- 03-2024.csv',\n",
       " 'Hemograma 03-2024.csv',\n",
       " 'Dengue 03-2024.csv']"
      ]
     },
     "execution_count": 2,
     "metadata": {},
     "output_type": "execute_result"
    }
   ],
   "source": [
    "os.listdir(\"norm_data/\")"
   ]
  },
  {
   "cell_type": "markdown",
   "id": "049e12c5",
   "metadata": {},
   "source": [
    "# Dengue cleaning"
   ]
  },
  {
   "cell_type": "code",
   "execution_count": 3,
   "id": "fd25ca67",
   "metadata": {},
   "outputs": [
    {
     "name": "stdout",
     "output_type": "stream",
     "text": [
      "(4009, 5)\n"
     ]
    }
   ],
   "source": [
    "paths = \"norm_data/Dengue IgM- 03-2024.csv\", \"norm_data/Dengue 03-2024.csv\"\n",
    "df_dengues = pd.concat([pd.read_csv(path) for path in paths])\n",
    "\n",
    "print(df_dengues.shape)"
   ]
  },
  {
   "cell_type": "code",
   "execution_count": 7,
   "id": "c45b5ea6",
   "metadata": {},
   "outputs": [],
   "source": [
    "# Step 1: Sort the DataFrame\n",
    "df_dengues.sort_values(by=['id_subject', 'resultado', 'fecha_muestra', 'analisis'], ascending = [False, False, True, True], inplace = True)\n",
    "\n",
    "# Step 2: Keeping the first positive result (if any) of the first date. \n",
    "mask = ~df_dengues[\"id_subject\"].duplicated(keep='first')\n",
    "df = df_dengues[mask]"
   ]
  },
  {
   "cell_type": "code",
   "execution_count": 8,
   "id": "6f54bcf2",
   "metadata": {},
   "outputs": [
    {
     "data": {
      "text/html": [
       "<div>\n",
       "<style scoped>\n",
       "    .dataframe tbody tr th:only-of-type {\n",
       "        vertical-align: middle;\n",
       "    }\n",
       "\n",
       "    .dataframe tbody tr th {\n",
       "        vertical-align: top;\n",
       "    }\n",
       "\n",
       "    .dataframe thead th {\n",
       "        text-align: right;\n",
       "    }\n",
       "</style>\n",
       "<table border=\"1\" class=\"dataframe\">\n",
       "  <thead>\n",
       "    <tr style=\"text-align: right;\">\n",
       "      <th></th>\n",
       "      <th>id_subject</th>\n",
       "      <th>fecha_nacimiento</th>\n",
       "      <th>fecha_muestra</th>\n",
       "      <th>analisis</th>\n",
       "      <th>resultado</th>\n",
       "    </tr>\n",
       "  </thead>\n",
       "  <tbody>\n",
       "    <tr>\n",
       "      <th>399</th>\n",
       "      <td>fffe7e0e6d9720dd75871effd9415640</td>\n",
       "      <td>2000-01-31 00:00:00</td>\n",
       "      <td>2024-03-07</td>\n",
       "      <td>PCR PARA DENGUE.</td>\n",
       "      <td>Positivo</td>\n",
       "    </tr>\n",
       "    <tr>\n",
       "      <th>2250</th>\n",
       "      <td>fffb7d7b9f956eaa701a904e81aa2096</td>\n",
       "      <td>1997-10-15</td>\n",
       "      <td>2024-03-27</td>\n",
       "      <td>PCR PARA DENGUE.</td>\n",
       "      <td>Negativo</td>\n",
       "    </tr>\n",
       "    <tr>\n",
       "      <th>1547</th>\n",
       "      <td>ffe8fd781009a13194976c05f28f66ad</td>\n",
       "      <td>2007-11-14 00:00:00</td>\n",
       "      <td>2024-03-20</td>\n",
       "      <td>PCR PARA DENGUE.</td>\n",
       "      <td>Positivo</td>\n",
       "    </tr>\n",
       "    <tr>\n",
       "      <th>118</th>\n",
       "      <td>ffcb4f9852bc1f6728a7b95235fb3b82</td>\n",
       "      <td>1978-12-21 00:00:00</td>\n",
       "      <td>2024-03-03</td>\n",
       "      <td>PCR PARA DENGUE.</td>\n",
       "      <td>Negativo</td>\n",
       "    </tr>\n",
       "    <tr>\n",
       "      <th>1884</th>\n",
       "      <td>ffa85c2cbd6a4a7c2d7d6a5d52a85964</td>\n",
       "      <td>2003-06-05</td>\n",
       "      <td>2024-03-24</td>\n",
       "      <td>PCR PARA DENGUE.</td>\n",
       "      <td>Positivo-DEN1</td>\n",
       "    </tr>\n",
       "    <tr>\n",
       "      <th>...</th>\n",
       "      <td>...</td>\n",
       "      <td>...</td>\n",
       "      <td>...</td>\n",
       "      <td>...</td>\n",
       "      <td>...</td>\n",
       "    </tr>\n",
       "    <tr>\n",
       "      <th>2257</th>\n",
       "      <td>006da0f996c5b6b4bf121a8263bc3ee5</td>\n",
       "      <td>1980-09-28</td>\n",
       "      <td>2024-03-27</td>\n",
       "      <td>PCR PARA DENGUE.</td>\n",
       "      <td>Positivo-DEN1</td>\n",
       "    </tr>\n",
       "    <tr>\n",
       "      <th>1578</th>\n",
       "      <td>003b2732d132c0c8cbdabfc5488b83fd</td>\n",
       "      <td>2015-10-01 00:00:00</td>\n",
       "      <td>2024-03-21</td>\n",
       "      <td>PCR PARA DENGUE.</td>\n",
       "      <td>Positivo</td>\n",
       "    </tr>\n",
       "    <tr>\n",
       "      <th>1113</th>\n",
       "      <td>002f9a1a1dcdd9650c3fd7829d167ccb</td>\n",
       "      <td>2006-11-01 00:00:00</td>\n",
       "      <td>2024-03-17</td>\n",
       "      <td>PCR PARA DENGUE.</td>\n",
       "      <td>Negativo</td>\n",
       "    </tr>\n",
       "    <tr>\n",
       "      <th>927</th>\n",
       "      <td>00201509ff6946619043c1e8f92db9d8</td>\n",
       "      <td>1980-12-18 00:00:00</td>\n",
       "      <td>2024-03-14</td>\n",
       "      <td>PCR PARA DENGUE.</td>\n",
       "      <td>Positivo-DEN1</td>\n",
       "    </tr>\n",
       "    <tr>\n",
       "      <th>671</th>\n",
       "      <td>000bd3f4aa39981d82c5b2cd4fe41bc7</td>\n",
       "      <td>2000-01-31 00:00:00</td>\n",
       "      <td>2024-03-11</td>\n",
       "      <td>PCR PARA DENGUE.</td>\n",
       "      <td>Positivo-DEN1</td>\n",
       "    </tr>\n",
       "  </tbody>\n",
       "</table>\n",
       "<p>2818 rows × 5 columns</p>\n",
       "</div>"
      ],
      "text/plain": [
       "                            id_subject     fecha_nacimiento fecha_muestra  \\\n",
       "399   fffe7e0e6d9720dd75871effd9415640  2000-01-31 00:00:00    2024-03-07   \n",
       "2250  fffb7d7b9f956eaa701a904e81aa2096           1997-10-15    2024-03-27   \n",
       "1547  ffe8fd781009a13194976c05f28f66ad  2007-11-14 00:00:00    2024-03-20   \n",
       "118   ffcb4f9852bc1f6728a7b95235fb3b82  1978-12-21 00:00:00    2024-03-03   \n",
       "1884  ffa85c2cbd6a4a7c2d7d6a5d52a85964           2003-06-05    2024-03-24   \n",
       "...                                ...                  ...           ...   \n",
       "2257  006da0f996c5b6b4bf121a8263bc3ee5           1980-09-28    2024-03-27   \n",
       "1578  003b2732d132c0c8cbdabfc5488b83fd  2015-10-01 00:00:00    2024-03-21   \n",
       "1113  002f9a1a1dcdd9650c3fd7829d167ccb  2006-11-01 00:00:00    2024-03-17   \n",
       "927   00201509ff6946619043c1e8f92db9d8  1980-12-18 00:00:00    2024-03-14   \n",
       "671   000bd3f4aa39981d82c5b2cd4fe41bc7  2000-01-31 00:00:00    2024-03-11   \n",
       "\n",
       "              analisis      resultado  \n",
       "399   PCR PARA DENGUE.       Positivo  \n",
       "2250  PCR PARA DENGUE.       Negativo  \n",
       "1547  PCR PARA DENGUE.       Positivo  \n",
       "118   PCR PARA DENGUE.       Negativo  \n",
       "1884  PCR PARA DENGUE.  Positivo-DEN1  \n",
       "...                ...            ...  \n",
       "2257  PCR PARA DENGUE.  Positivo-DEN1  \n",
       "1578  PCR PARA DENGUE.       Positivo  \n",
       "1113  PCR PARA DENGUE.       Negativo  \n",
       "927   PCR PARA DENGUE.  Positivo-DEN1  \n",
       "671   PCR PARA DENGUE.  Positivo-DEN1  \n",
       "\n",
       "[2818 rows x 5 columns]"
      ]
     },
     "execution_count": 8,
     "metadata": {},
     "output_type": "execute_result"
    }
   ],
   "source": [
    "df"
   ]
  },
  {
   "cell_type": "markdown",
   "id": "ec95da55",
   "metadata": {},
   "source": [
    "# Join data"
   ]
  },
  {
   "cell_type": "markdown",
   "id": "0577fad4",
   "metadata": {},
   "source": [
    "### Glucosa"
   ]
  },
  {
   "cell_type": "code",
   "execution_count": 5,
   "id": "f378c4ee",
   "metadata": {},
   "outputs": [],
   "source": [
    "labs = [\"norm_data/Glucosa 03-2024.csv\", \n",
    "        \"norm_data/Plaquetas 03-2024.csv\",\n",
    "        \"norm_data/Hepatograma 03-2024.csv\",\n",
    "        \"norm_data/Hemograma 03-2024.csv\"]"
   ]
  },
  {
   "cell_type": "code",
   "execution_count": null,
   "id": "807dc19c",
   "metadata": {},
   "outputs": [],
   "source": []
  },
  {
   "cell_type": "code",
   "execution_count": 6,
   "id": "84110056",
   "metadata": {},
   "outputs": [
    {
     "name": "stdout",
     "output_type": "stream",
     "text": [
      "norm_data/Glucosa 03-2024.csv started with (2818, 5)\n",
      "norm_data/Glucosa 03-2024.csv (6076, 3)\n",
      "norm_data/Glucosa 03-2024.csv after merge (3157, 7)\n",
      "norm_data/Glucosa 03-2024.csv after delta dias (3157, 8)\n",
      "norm_data/Glucosa 03-2024.csv ended with (2818, 6)\n",
      "\n",
      "norm_data/Plaquetas 03-2024.csv started with (2818, 6)\n",
      "norm_data/Plaquetas 03-2024.csv (5665, 5)\n",
      "norm_data/Plaquetas 03-2024.csv after merge (3656, 10)\n",
      "norm_data/Plaquetas 03-2024.csv after delta dias (3656, 11)\n",
      "norm_data/Plaquetas 03-2024.csv ended with (2818, 9)\n",
      "\n",
      "norm_data/Hepatograma 03-2024.csv started with (2818, 9)\n",
      "norm_data/Hepatograma 03-2024.csv (6858, 10)\n",
      "norm_data/Hepatograma 03-2024.csv after merge (3537, 18)\n",
      "norm_data/Hepatograma 03-2024.csv after delta dias (3537, 19)\n",
      "norm_data/Hepatograma 03-2024.csv ended with (2818, 17)\n",
      "\n",
      "norm_data/Hemograma 03-2024.csv started with (2818, 17)\n",
      "norm_data/Hemograma 03-2024.csv (9121, 23)\n",
      "norm_data/Hemograma 03-2024.csv after merge (3843, 39)\n",
      "norm_data/Hemograma 03-2024.csv after delta dias (3843, 40)\n",
      "norm_data/Hemograma 03-2024.csv ended with (2818, 38)\n",
      "\n"
     ]
    }
   ],
   "source": [
    "for path in labs:\n",
    "    print(f\"{path} started with {df.shape}\")\n",
    "    lab = pd.read_csv(path)\n",
    "    print(path, lab.shape)\n",
    "    df = pd.merge(df, lab, on = \"id_subject\", how = \"left\", suffixes= [\"\", \"_new\"])\n",
    "    print(f\"{path} after merge {df.shape}\")\n",
    "    df[\"delta_dias\"] = (pd.to_datetime(df.fecha_muestra) - pd.to_datetime(df.fecha_muestra_new.fillna(df.fecha_muestra))).dt.days\n",
    "    \n",
    "    df.loc[~df.delta_dias.between(-1,7), lab.columns[2:]] = np.nan\n",
    "    print(f\"{path} after delta dias {df.shape}\")\n",
    "\n",
    "    df[\"delta_dias_neg\"] = df.delta_dias > 0\n",
    "    index_cols = ['id_subject',\"delta_dias_neg\", 'delta_dias']\n",
    "    df = df.sort_values(by=index_cols, ascending = [True, False, True])\n",
    "    mask = ~df[\"id_subject\"].duplicated(keep='first')\n",
    "    df = df[mask]\n",
    "    df.drop(columns = [\"fecha_muestra_new\", \"delta_dias\",\"delta_dias_neg\"], inplace = True)\n",
    "    print(f\"{path} ended with {df.shape}\\n\")"
   ]
  },
  {
   "cell_type": "code",
   "execution_count": 312,
   "id": "45550405",
   "metadata": {},
   "outputs": [
    {
     "data": {
      "text/plain": [
       "id_subject                                   0.000000\n",
       "fecha_nacimiento                             0.000000\n",
       "fecha_muestra                                0.000000\n",
       "analisis                                     0.000000\n",
       "resultado                                    0.000000\n",
       "glucosa                                     73.314407\n",
       "observaciones_de_plaquetas                  93.718950\n",
       "recuento_de_plaquetas                       51.135557\n",
       "no_plaq                                     51.100071\n",
       "albumina                                    56.422995\n",
       "bilirrubina_directa                         56.032647\n",
       "bilirrubina_total                           56.032647\n",
       "colesterol                                  56.032647\n",
       "fosfatasa_alcalina_(fal)                    56.032647\n",
       "proteinas_totales                           56.032647\n",
       "transaminasa_glutamico_oxalacetica_(got)    56.068133\n",
       "transaminasa_glutamico_piruvica_(gpt)       56.032647\n",
       "perc_basofilos                              48.154720\n",
       "perc_eosinofilos                            48.154720\n",
       "perc_linfocitos                             48.154720\n",
       "perc_monocitos                              48.154720\n",
       "perc_neutrofilos_cayados                    48.154720\n",
       "perc_neutrofilos_polisegmentados            48.154720\n",
       "basofilos_abs                               48.190206\n",
       "concentracion_de_hb_corp_media              48.154720\n",
       "eosinofilos_abs                             48.190206\n",
       "hematocrito                                 48.154720\n",
       "hemoglobina                                 48.154720\n",
       "hemoglobina_corpuscular_media               48.154720\n",
       "linfocitos_abs                              48.190206\n",
       "monocitos_abs                               48.190206\n",
       "neutrofilos_cayados_abs                     48.190206\n",
       "neutrofilos_polisegmentados_abs             48.190206\n",
       "observaciones                               99.964514\n",
       "rdw                                         48.154720\n",
       "recuento_de_globulos_blancos                48.154720\n",
       "recuento_de_globulos_rojos                  48.154720\n",
       "volumen_corpuscular_medio                   48.154720\n",
       "dtype: float64"
      ]
     },
     "execution_count": 312,
     "metadata": {},
     "output_type": "execute_result"
    }
   ],
   "source": [
    "df.isna().sum() / len(df) * 100"
   ]
  },
  {
   "cell_type": "code",
   "execution_count": 313,
   "id": "48ba54e5",
   "metadata": {},
   "outputs": [],
   "source": [
    "df[\"edad\"] = ( pd.to_datetime(df.fecha_muestra) -pd.to_datetime(df[\"fecha_nacimiento\"])).dt.days // 365"
   ]
  },
  {
   "cell_type": "code",
   "execution_count": 314,
   "id": "d31f625f",
   "metadata": {},
   "outputs": [],
   "source": [
    "df[\"resultado_bin\"] = df.resultado.str.contains(\"Posit\").astype(int).map({1:\"Positivo\", 0:\"Negativo/Indet\"})"
   ]
  },
  {
   "cell_type": "code",
   "execution_count": 315,
   "id": "2e1d2e0e",
   "metadata": {},
   "outputs": [
    {
     "name": "stdout",
     "output_type": "stream",
     "text": [
      "(2818, 40)\n",
      "(1646, 40)\n"
     ]
    }
   ],
   "source": [
    "# Drop cases without bioq data\n",
    "print(df.shape)\n",
    "df = df.loc[df[['glucosa', 'observaciones_de_plaquetas',\n",
    "       'recuento_de_plaquetas', 'no_plaq', 'albumina', 'bilirrubina_directa',\n",
    "       'bilirrubina_total', 'colesterol', 'fosfatasa_alcalina_(fal)',\n",
    "       'proteinas_totales', 'transaminasa_glutamico_oxalacetica_(got)',\n",
    "       'transaminasa_glutamico_piruvica_(gpt)', 'perc_basofilos',\n",
    "       'perc_eosinofilos', 'perc_linfocitos', 'perc_monocitos',\n",
    "       'perc_neutrofilos_cayados', 'perc_neutrofilos_polisegmentados',\n",
    "       'basofilos_abs', 'concentracion_de_hb_corp_media', 'eosinofilos_abs',\n",
    "       'hematocrito', 'hemoglobina', 'hemoglobina_corpuscular_media',\n",
    "       'linfocitos_abs', 'monocitos_abs', 'neutrofilos_cayados_abs',\n",
    "       'neutrofilos_polisegmentados_abs', 'observaciones', 'rdw',\n",
    "       'recuento_de_globulos_blancos', 'recuento_de_globulos_rojos',\n",
    "       'volumen_corpuscular_medio']].dropna(how = \"all\").index]\n",
    "\n",
    "print(df.shape)"
   ]
  },
  {
   "cell_type": "code",
   "execution_count": 316,
   "id": "842fa5b0",
   "metadata": {},
   "outputs": [],
   "source": [
    "df.drop(columns = [\"observaciones_de_plaquetas\", \"observaciones\"], inplace=True)"
   ]
  },
  {
   "cell_type": "code",
   "execution_count": 317,
   "id": "dee7d3fc",
   "metadata": {},
   "outputs": [],
   "source": [
    "df.to_csv(\"clean_data.csv\", index = None)"
   ]
  },
  {
   "cell_type": "code",
   "execution_count": null,
   "id": "84582c8c",
   "metadata": {},
   "outputs": [],
   "source": []
  },
  {
   "cell_type": "code",
   "execution_count": null,
   "id": "5276e60b",
   "metadata": {},
   "outputs": [],
   "source": []
  },
  {
   "cell_type": "code",
   "execution_count": null,
   "id": "b0161e9e",
   "metadata": {},
   "outputs": [],
   "source": []
  },
  {
   "cell_type": "code",
   "execution_count": null,
   "id": "f78b4a73",
   "metadata": {},
   "outputs": [],
   "source": []
  },
  {
   "cell_type": "code",
   "execution_count": null,
   "id": "54b87bf8",
   "metadata": {},
   "outputs": [],
   "source": []
  },
  {
   "cell_type": "code",
   "execution_count": null,
   "id": "2f11f9d8",
   "metadata": {},
   "outputs": [],
   "source": []
  },
  {
   "cell_type": "code",
   "execution_count": null,
   "id": "482dcf7c",
   "metadata": {},
   "outputs": [],
   "source": []
  },
  {
   "cell_type": "code",
   "execution_count": null,
   "id": "a7a94406",
   "metadata": {},
   "outputs": [],
   "source": []
  },
  {
   "cell_type": "code",
   "execution_count": null,
   "id": "b89139ba",
   "metadata": {},
   "outputs": [],
   "source": []
  },
  {
   "cell_type": "code",
   "execution_count": null,
   "id": "f4fb074d",
   "metadata": {},
   "outputs": [],
   "source": []
  },
  {
   "cell_type": "code",
   "execution_count": null,
   "id": "1a7d9881",
   "metadata": {},
   "outputs": [],
   "source": []
  },
  {
   "cell_type": "code",
   "execution_count": null,
   "id": "3956e09a",
   "metadata": {},
   "outputs": [],
   "source": []
  },
  {
   "cell_type": "code",
   "execution_count": null,
   "id": "c62c29d2",
   "metadata": {},
   "outputs": [],
   "source": []
  },
  {
   "cell_type": "code",
   "execution_count": null,
   "id": "3b74624b",
   "metadata": {},
   "outputs": [],
   "source": []
  },
  {
   "cell_type": "code",
   "execution_count": null,
   "id": "4e43227f",
   "metadata": {},
   "outputs": [],
   "source": []
  },
  {
   "cell_type": "code",
   "execution_count": null,
   "id": "3ef8b3da",
   "metadata": {},
   "outputs": [],
   "source": []
  }
 ],
 "metadata": {
  "kernelspec": {
   "display_name": "Python 3 (ipykernel)",
   "language": "python",
   "name": "python3"
  },
  "language_info": {
   "codemirror_mode": {
    "name": "ipython",
    "version": 3
   },
   "file_extension": ".py",
   "mimetype": "text/x-python",
   "name": "python",
   "nbconvert_exporter": "python",
   "pygments_lexer": "ipython3",
   "version": "3.8.10"
  }
 },
 "nbformat": 4,
 "nbformat_minor": 5
}
